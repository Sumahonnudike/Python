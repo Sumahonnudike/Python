{
 "cells": [
  {
   "cell_type": "markdown",
   "id": "fd4743d9",
   "metadata": {},
   "source": [
    "# Exercise 1: Mailing Address\n",
    "    Create a program that displays your name and complete mailing address. The address\n",
    "should be printed in the format that is normally used in the area where you live. Your\n",
    "program does not need to read any input from the user."
   ]
  },
  {
   "cell_type": "code",
   "execution_count": 1,
   "id": "2109ae50",
   "metadata": {},
   "outputs": [
    {
     "name": "stdout",
     "output_type": "stream",
     "text": [
      "Suma\n",
      "402, 4th Block, Groud floor,\n",
      "Gaana Residdency, Cauvery pipeline Road,\n",
      "Kumara Swamy Layout\n",
      "Bengaluru - 560 078\n"
     ]
    }
   ],
   "source": [
    "print(\"Suma\")\n",
    "print(\"402, 4th Block, Groud floor,\")\n",
    "print(\"Gaana Residdency, Cauvery pipeline Road,\")\n",
    "print(\"Kumara Swamy Layout\")\n",
    "print(\"Bengaluru - 560 078\")"
   ]
  },
  {
   "cell_type": "markdown",
   "id": "4ed1becf",
   "metadata": {},
   "source": [
    "# Exercise 2: Hello\n",
    "    Write a program that asks the user to enter his or her name. The program should\n",
    "respond with a message that says hello to the user, using his or her name."
   ]
  },
  {
   "cell_type": "markdown",
   "id": "3d3e100c",
   "metadata": {},
   "source": [
    "## name = input(\"Enter your name: \")\n",
    "print(\"Hello\", name + \"!\")"
   ]
  },
  {
   "cell_type": "markdown",
   "id": "5c2c3768",
   "metadata": {},
   "source": [
    "# Exercise 3: Area of a Room\n",
    "    Write a program that asks the user to enter the width and length of a room. Once\n",
    "these values have been read, your program should compute and display the area of\n",
    "the room. The length and the width will be entered as floating-point numbers. Include\n",
    "units in your prompt and output message; either feet or meters, depending on which\n",
    "unit you are more comfortable working"
   ]
  },
  {
   "cell_type": "code",
   "execution_count": 3,
   "id": "e7278247",
   "metadata": {},
   "outputs": [
    {
     "name": "stdout",
     "output_type": "stream",
     "text": [
      "Enter the length of a room in meters: 80\n",
      "Enter the width of a room in meters: 65\n",
      "Area of a Room is: 5200.00 Square meters\n"
     ]
    }
   ],
   "source": [
    "room_length = float(input('Enter the length of a room in meters: '))\n",
    "room_width = float(input('Enter the width of a room in meters: '))\n",
    "Area = room_length * room_width\n",
    "print(\"Area of a Room is: %.2f\" %Area, \"Square meters\")"
   ]
  },
  {
   "cell_type": "markdown",
   "id": "5a2fc760",
   "metadata": {},
   "source": [
    "# Exercise 4: Area of a Field\n",
    "    Create a program that reads the length and width of a farmer’s field from the user in\n",
    "feet. Display the area of the field in acres."
   ]
  },
  {
   "cell_type": "code",
   "execution_count": 4,
   "id": "ca8ed13e",
   "metadata": {},
   "outputs": [
    {
     "name": "stdout",
     "output_type": "stream",
     "text": [
      "Enter the length of a field in feet: 4000\n",
      "Enter the width of a field in meters: 3500\n",
      "Area of a field is: 321.40  Acres\n"
     ]
    }
   ],
   "source": [
    "one_acre = 43560 \n",
    "fld_length = float(input('Enter the length of a field in feet: '))\n",
    "fld_width = float(input('Enter the width of a field in meters: '))\n",
    "Area_in_sqft = fld_length * fld_width\n",
    "Area_in_acres = Area_in_sqft / one_acre\n",
    "print(\"Area of a field is: %.2f\" %Area_in_acres, \" Acres\")"
   ]
  },
  {
   "cell_type": "markdown",
   "id": "71c73e9e",
   "metadata": {},
   "source": [
    "# Exercise 5: Bottle Deposits\n",
    "    In many jurisdictions a small deposit is added to drink containers to encourage people\n",
    "to recycle them. In one particular jurisdiction, drink containers holding one liter or\n",
    "less have a $0.10 deposit, and drink containers holding more than one liter have a\n",
    "$0.25 deposit.\n",
    "Write a program that reads the number of containers of each size from the user.\n",
    "Your program should continue by computing and displaying the refund that will be\n",
    "received for returning those containers. Format the output so that it includes a dollar\n",
    "sign and two digits to the right of the decimal point:"
   ]
  },
  {
   "cell_type": "code",
   "execution_count": 5,
   "id": "075e80e1",
   "metadata": {},
   "outputs": [
    {
     "name": "stdout",
     "output_type": "stream",
     "text": [
      "How many containers 1 litre or less? 25\n",
      "How many containers more than 1 litre ? 15\n",
      "The amount to be refunded will be $6.25.\n"
     ]
    }
   ],
   "source": [
    "less1Litre_refAmt = 0.10\n",
    "more1Litre_refAmt = 0.25\n",
    "\n",
    "inp_less1Litre_cont = int(input(\"How many containers 1 litre or less? \"))\n",
    "inp_more1Litre_cont = int(input(\"How many containers more than 1 litre ? \"))\n",
    "\n",
    "tot_refAmt = (inp_less1Litre_cont * less1Litre_refAmt) + (inp_more1Litre_cont* more1Litre_refAmt)\n",
    "\n",
    "print(\"The amount to be refunded will be $%.2f.\" % tot_refAmt)"
   ]
  },
  {
   "cell_type": "markdown",
   "id": "c6ed58d2",
   "metadata": {},
   "source": [
    "# Exercise 6: Tax and Tip\n",
    "    The program that you create for this exercise will begin by reading the cost of a meal\n",
    "ordered at a restaurant from the user. Then your program will compute the tax and\n",
    "tip for the meal. Use your local tax rate when computing the amount of tax owing.\n",
    "Compute the tip as 18 percent of the meal amount (without the tax). The output from\n",
    "your program should include the tax amount, the tip amount, and the grand total for\n",
    "the meal including both the tax and the tip. Format the output so that all of the values\n",
    "are displayed using two decimal places"
   ]
  },
  {
   "cell_type": "code",
   "execution_count": 6,
   "id": "8a3b16f2",
   "metadata": {
    "scrolled": true
   },
   "outputs": [
    {
     "name": "stdout",
     "output_type": "stream",
     "text": [
      "Please enter the cost of meal : 250\n",
      "---------------------------------------------------------\n",
      "The actual cost of the meal is  $250.00.\n",
      "The local tax on the meal       $12.50.\n",
      "The tip on the meal given       $45.00.\n",
      "---------------------------------------------------------\n",
      "The actaul cost of the meal is  $307.50.\n",
      "---------------------------------------------------------\n"
     ]
    }
   ],
   "source": [
    "tip_perc_rate = 0.18\n",
    "localtax_perc_Rate = 0.05\n",
    "\n",
    "actual_meal_cost = int(input(\"Please enter the cost of meal : \"))\n",
    "\n",
    "tax = actual_meal_cost * localtax_perc_Rate\n",
    "tip = actual_meal_cost * tip_perc_rate\n",
    "\n",
    "final_meal_cost = actual_meal_cost + tax + tip\n",
    "print(\"---------------------------------------------------------\")\n",
    "print(\"The actual cost of the meal is  $%.2f.\" % actual_meal_cost)\n",
    "print(\"The local tax on the meal       $%.2f.\" % tax)\n",
    "print(\"The tip on the meal given       $%.2f.\" % tip)\n",
    "print(\"---------------------------------------------------------\")\n",
    "print(\"The actaul cost of the meal is  $%.2f.\" % final_meal_cost)\n",
    "print(\"---------------------------------------------------------\")"
   ]
  },
  {
   "cell_type": "markdown",
   "id": "cee2ea30",
   "metadata": {},
   "source": [
    "# Exercise 7: Sum of the First n Positive Integers\n",
    "    Write a program that reads a positive integer, n, from the user and then displays the\n",
    "sum of all of the integers from 1 to n."
   ]
  },
  {
   "cell_type": "code",
   "execution_count": 7,
   "id": "12bbba9b",
   "metadata": {},
   "outputs": [
    {
     "name": "stdout",
     "output_type": "stream",
     "text": [
      "Enter a positive integer upto which the sum is required : 12\n",
      "The sum of the  12 positive integers is %d 78.0\n"
     ]
    }
   ],
   "source": [
    "inputNum = int(input(\"Enter a positive integer upto which the sum is required : \"))\n",
    "\n",
    "totSum = inputNum * (inputNum + 1) / 2\n",
    "\n",
    "print(\"The sum of the \", inputNum, \"positive integers is %d\", totSum)"
   ]
  },
  {
   "cell_type": "markdown",
   "id": "089443a7",
   "metadata": {},
   "source": [
    "# Exercise 8: Widgets and Gizmos\n",
    "    An online retailer sells two products: widgets and gizmos. Each widget weighs 75\n",
    "grams. Each gizmo weighs 112 grams. Write a program that reads the number of\n",
    "widgets and the number of gizmos from the user. Then your program should compute\n",
    "and display the total weight of the parts."
   ]
  },
  {
   "cell_type": "code",
   "execution_count": 8,
   "id": "c0ea4519",
   "metadata": {},
   "outputs": [
    {
     "name": "stdout",
     "output_type": "stream",
     "text": [
      "How many widgets? 20\n",
      "How many gizmos ? 12\n",
      "The total weight is $2844.00.\n"
     ]
    }
   ],
   "source": [
    "widget_weight = 75\n",
    "gizmo_weight = 112 \n",
    "\n",
    "inp_no_widgets = int(input(\"How many widgets? \"))\n",
    "inp_no_gizmos = int(input(\"How many gizmos ? \"))\n",
    "\n",
    "tot_weight = (inp_no_widgets * widget_weight) + (inp_no_gizmos* gizmo_weight)\n",
    "\n",
    "print(\"The total weight is $%.2f.\" % tot_weight)"
   ]
  },
  {
   "cell_type": "markdown",
   "id": "4ea638c2",
   "metadata": {},
   "source": [
    "# Exercise 9: Compound Interest\n",
    "    Pretend that you have just opened a new savings account that earns 4 percent interest\n",
    "per year. The interest that you earn is paid at the end of the year, and is added to the\n",
    "balance of the savings account. Write a program that begins by reading the amount of\n",
    "money deposited into the account from the user. Then your program should compute\n",
    "and display the amount in the savings account after 1, 2, and 3 years. Display each\n",
    "amount so that it is rounded to 2 decimal places"
   ]
  },
  {
   "cell_type": "code",
   "execution_count": 9,
   "id": "337d12d0",
   "metadata": {},
   "outputs": [
    {
     "name": "stdout",
     "output_type": "stream",
     "text": [
      "Enter principal deposit amount: 10000\n",
      "Simple interest for first year=   400.0\n",
      "Total amount at the end of first year   =  10400.0\n",
      "Simple interest for second year=  800.0\n",
      "Total amount at the end of second year  =  10800.0\n",
      "Simple interest for third year=   400.0\n",
      "Total amount at the end of third  year  =  11200.0\n"
     ]
    }
   ],
   "source": [
    "Int_rate=4\n",
    "\n",
    "dep_amt = float(input('Enter principal deposit amount: '))\n",
    "\n",
    "# At the end of first year\n",
    "period=1\n",
    "SI1 = (dep_amt * Int_rate * period) / 100\n",
    "\n",
    "# At the end of second year\n",
    "period=2\n",
    "SI2 = (dep_amt * Int_rate * period) / 100\n",
    "\n",
    "# At the end of third year\n",
    "period=3\n",
    "SI3 = (dep_amt * Int_rate * period) / 100\n",
    "\n",
    "# display result\n",
    "print('Simple interest for first year=  ',SI1 )\n",
    "print('Total amount at the end of first year   = ',( dep_amt + SI1 ))\n",
    "print('Simple interest for second year= ',SI2 )\n",
    "print('Total amount at the end of second year  = ',( dep_amt + SI2 ))\n",
    "print('Simple interest for third year=  ',SI1 )\n",
    "print('Total amount at the end of third  year  = ',( dep_amt + SI3 ))"
   ]
  },
  {
   "cell_type": "markdown",
   "id": "32b43d51",
   "metadata": {},
   "source": [
    "# Exercise 10: Arithmetic\n",
    "    Create a program that reads two integers, a and b, from the user. Your program should\n",
    "compute and display:\n",
    "• The sum of a and b\n",
    "• The difference when b is subtracted from a \n",
    "• The product of a and b \n",
    "• The quotient when a is divided by b\n",
    "• The remainder when a is divided by b '\n",
    "• The result of log10 a \n",
    "• The result of a power b"
   ]
  },
  {
   "cell_type": "code",
   "execution_count": 10,
   "id": "50590ab0",
   "metadata": {},
   "outputs": [
    {
     "name": "stdout",
     "output_type": "stream",
     "text": [
      "Enter the value of a: 20\n",
      "Enter the value of b: 3\n",
      "20 + 3 is 23\n",
      "20 - 3 is 17\n",
      "20 * 3 is 60\n",
      "20 / 3 is 6.666666666666667\n",
      "20 % 3 is 2\n",
      "The base 10 logarithm of 20 is 1.3010299956639813\n",
      "20 ˆ 3 is 8000\n"
     ]
    }
   ],
   "source": [
    "from math import log10\n",
    "\n",
    "a = int(input(\"Enter the value of a: \"))\n",
    "b = int(input(\"Enter the value of b: \"))\n",
    "\n",
    "print(a, \"+\", b, \"is\", a + b)\n",
    "print(a, \"-\", b, \"is\", a - b)\n",
    "print(a, \"*\", b, \"is\", a * b)\n",
    "print(a, \"/\", b, \"is\", a / b)\n",
    "print(a, \"%\", b, \"is\", a % b)\n",
    "print(\"The base 10 logarithm of\", a, \"is\", log10(a))\n",
    "print(a, \"ˆ\", b, \"is\", a**b)"
   ]
  },
  {
   "cell_type": "markdown",
   "id": "fce4fbb3",
   "metadata": {},
   "source": [
    "# Exercise 11: Fuel Efficiency\n",
    "    In the United States, fuel efficiency for vehicles is normally expressed in miles-per\u0002gallon (MPG). In Canada, fuel efficiency is normally expressed in liters-per-hundred\n",
    "kilometers (L/100 km). Use your research skills to determine how to convert from\n",
    "MPG to L/100 km. Then create a program that reads a value from the user in American\n",
    "units and displays the equivalent fuel efficiency in Canadian units."
   ]
  },
  {
   "cell_type": "code",
   "execution_count": 1,
   "id": "86cfb73c",
   "metadata": {},
   "outputs": [
    {
     "name": "stdout",
     "output_type": "stream",
     "text": [
      "Enter the fuel efficiency in American units (Gallons per Mile: 25\n",
      "The fule efficiency in Canadian unis is  8.85.\n"
     ]
    }
   ],
   "source": [
    "gallon = 4.54609188\n",
    "mile = 1.609344\n",
    "mpg = int(input(\"Enter the fuel efficiency in American units (Gallons per Mile: \"))\n",
    "lph = (mpg*mile)/gallon;\n",
    "print(\"The fule efficiency in Canadian unis is  %.2f.\" % lph)"
   ]
  },
  {
   "cell_type": "markdown",
   "id": "e18092ca",
   "metadata": {},
   "source": [
    "# Exercise 12: Distance Between Two Points on Earth\n",
    "    The surface of the Earth is curved, and the distance between degrees of longitude\n",
    "varies with latitude. As a result, finding the distance between two points on the surface\n",
    "of the Earth is more complicated than simply using the Pythagorean theorem.\n",
    "Let (t1, g1) and (t2, g2) be the latitude and longitude of two points on the Earth’s\n",
    "surface. The distance between these points, following the surface of the Earth, in\n",
    "kilometers is:\n",
    "distance = 6371.01 × arccos(sin(t1) × sin(t2) + cos(t1) × cos(t2) × cos(g1 − g2))\n",
    "The value 6371.01 in the previous equation wasn’t selected at random. It is the\n",
    "average radius of the Earth in kilometers.\n",
    "Create a program that allows the user to enter the latitude and longitude of two\n",
    "points on the Earth in degrees. Your program should display the distance between\n",
    "the points, following the surface of the earth, in kilometers."
   ]
  },
  {
   "cell_type": "code",
   "execution_count": 2,
   "id": "5c60b0e3",
   "metadata": {},
   "outputs": [
    {
     "name": "stdout",
     "output_type": "stream",
     "text": [
      "Enter the latitude of the first point 100\n",
      "Enter the longitude of the first point 150\n",
      "Enter the latitude of the second point 300\n",
      "Enter the longitude of the second point 450\n",
      "The distance between two points is   6622.58.\n"
     ]
    }
   ],
   "source": [
    "import math\n",
    "t1 = int(input(\"Enter the latitude of the first point \"))\n",
    "g1 = int(input(\"Enter the longitude of the first point \"))\n",
    "t2 = int(input(\"Enter the latitude of the second point \"))\n",
    "g2 = int(input(\"Enter the longitude of the second point \"))\n",
    "distance = 6371.01 * math.acos(math.sin(t1) * math.sin(t2) + math.cos(t1) * math.cos(t2) * math.cos(g1 - g2))\n",
    "print(\"The distance between two points is   %.2f.\" % distance)"
   ]
  },
  {
   "cell_type": "markdown",
   "id": "2a690d80",
   "metadata": {},
   "source": [
    "# Exercise 13: Making Change\n",
    "    Consider the software that runs on a self-checkout machine. One task that it must be\n",
    "able to perform is to determine how much change to provide when the shopper pays\n",
    "for a purchase with cash.\n",
    "Write a program that begins by reading a number of cents from the user as an\n",
    "integer. Then your program should compute and display the denominations of the\n",
    "coins that should be used to give that amount of change to the shopper. The change\n",
    "should be given using as few coins as possible. Assume that the machine is loaded\n",
    "with pennies, nickels, dimes, quarters, loonies and toonies.    "
   ]
  },
  {
   "cell_type": "code",
   "execution_count": 4,
   "id": "e2f71d5e",
   "metadata": {},
   "outputs": [
    {
     "name": "stdout",
     "output_type": "stream",
     "text": [
      "Enter the number of cents: 365\n",
      "  1 toonies\n",
      "  1 loonies\n",
      "  2 quarters\n",
      "  1 dimes\n",
      "  1 nickels\n",
      "  0 pennies\n"
     ]
    }
   ],
   "source": [
    "CENTS_PER_TOONIE = 200\n",
    "CENTS_PER_LOONIE = 100 \n",
    "CENTS_PER_QUARTER = 25 \n",
    "CENTS_PER_DIME = 10 \n",
    "CENTS_PER_NICKEL = 5 \n",
    "\n",
    "cents = int(input(\"Enter the number of cents: \"))\n",
    "\n",
    "print(\" \", cents // CENTS_PER_TOONIE, \"toonies\") \n",
    "cents = cents % CENTS_PER_TOONIE\n",
    "print(\" \", cents // CENTS_PER_LOONIE, \"loonies\")\n",
    "cents = cents % CENTS_PER_LOONIE\n",
    "print(\" \", cents // CENTS_PER_QUARTER, \"quarters\")\n",
    "cents = cents % CENTS_PER_QUARTER\n",
    "print(\" \", cents // CENTS_PER_DIME, \"dimes\")\n",
    "cents = cents % CENTS_PER_DIME\n",
    "print(\" \", cents // CENTS_PER_NICKEL, \"nickels\")\n",
    "cents = cents % CENTS_PER_NICKEL\n",
    "# Display the number of pennies\n",
    "print(\" \", cents, \"pennies\")"
   ]
  },
  {
   "cell_type": "markdown",
   "id": "25cbdb27",
   "metadata": {},
   "source": [
    "# Exercise 14: Height Units\n",
    "    Many people think about their height in feet and inches, even in some countries that\n",
    "primarily use the metric system. Write a program that reads a number of feet from\n",
    "the user, followed by a number of inches. Once these values are read, your program\n",
    "should compute and display the equivalent number of centimeters."
   ]
  },
  {
   "cell_type": "code",
   "execution_count": 7,
   "id": "28d0b0ea",
   "metadata": {},
   "outputs": [
    {
     "name": "stdout",
     "output_type": "stream",
     "text": [
      "Enter the height in feet: 5.2\n",
      "The height is :  158.496 centi meters\n"
     ]
    }
   ],
   "source": [
    "oneFeet=12\n",
    "oneInch=2.54\n",
    "height_in_feet = float(input(\"Enter the height in feet: \"))\n",
    "height_in_cms=height_in_feet * oneFeet * oneInch\n",
    "print(\"The height is : \",height_in_cms, \"centi meters\")"
   ]
  },
  {
   "cell_type": "markdown",
   "id": "3b4f3262",
   "metadata": {},
   "source": [
    "# Exercise 15: Distance Units\n",
    "    In this exercise, you will create a program that begins by reading a measurement\n",
    "in feet from the user. Then your program should display the equivalent distance in\n",
    "inches, yards and miles. Use the Internet to look up the necessary conversion factors\n",
    "if you don’t have them memorized."
   ]
  },
  {
   "cell_type": "code",
   "execution_count": 8,
   "id": "7faaab85",
   "metadata": {},
   "outputs": [
    {
     "name": "stdout",
     "output_type": "stream",
     "text": [
      "Enter the measurement in feet: 6000\n",
      "The measure in yard  is :  2000.0\n",
      "The measure in inches  is :  72000\n",
      "The measure in miles  is :  1.1363636363636365\n"
     ]
    }
   ],
   "source": [
    "oneYardinFeet=3\n",
    "oneFeetinInches=12\n",
    "onemileinFeet=5280\n",
    "measure_in_feet = int(input(\"Enter the measurement in feet: \"))\n",
    "measure_in_yard=measure_in_feet/oneYardinFeet\n",
    "print(\"The measure in yard  is : \",measure_in_yard)\n",
    "measure_in_inch=measure_in_feet*oneFeetinInches\n",
    "print(\"The measure in inches  is : \",measure_in_inch)\n",
    "measure_in_miles=measure_in_feet/onemileinFeet\n",
    "print(\"The measure in miles  is : \",measure_in_miles)"
   ]
  },
  {
   "cell_type": "markdown",
   "id": "4586d133",
   "metadata": {},
   "source": [
    "# Exercise 16: Area and Volume\n",
    "    Write a program that begins by reading a radius, r, from the user. The program will\n",
    "continue by computing and displaying the area of a circle with radius r and the\n",
    "volume of a sphere with radius r. Use the pi constant in the math module in your\n",
    "calculations.\n",
    "Hint: The area of a circle is computed using the formula area = πr 2. The\n",
    "volume of a sphere is computed using the formula volume = 4/3 πr 3"
   ]
  },
  {
   "cell_type": "code",
   "execution_count": 9,
   "id": "721b9f01",
   "metadata": {},
   "outputs": [
    {
     "name": "stdout",
     "output_type": "stream",
     "text": [
      "Please enter the radius: 5\n",
      " The area of the circle is 78.50. \n",
      "The volume of the sphere is 523.33.\n"
     ]
    }
   ],
   "source": [
    "pi=3.14 \n",
    "Radius = float (input (\"Please enter the radius: \"))  \n",
    "area_of_the_circle = pi* Radius * Radius  \n",
    "print (\" The area of the circle is %.2f. \" % area_of_the_circle)  \n",
    "volume_of_sphere = (4 * pi * (Radius ** 3))/ (3) \n",
    "print(\"The volume of the sphere is %.2f.\" % volume_of_sphere)"
   ]
  },
  {
   "cell_type": "markdown",
   "id": "551ed01f",
   "metadata": {},
   "source": [
    "# Exercise 17: Heat Capacity\n",
    "    The amount of energy required to increase the temperature of one gram of a material\n",
    "by one degree Celsius is the material’s specific heat capacity, C. The total amount\n",
    "of energy, q, required to raise m grams of a material by ΔT degrees Celsius can be\n",
    "computed using the formula:\n",
    "q = mCΔT\n",
    "Write a program that reads the mass of some water and the temperature change from\n",
    "the user. Your program should display the total amount of energy that must be added\n",
    "or removed to achieve the desired temperature change.\n",
    "(Hint: The specific heat capacity of water is 4.186\n",
    "gJ◦C. Because water has a\n",
    "density of 1.0 grams per milliliter, you can use grams and milliliters inter\u0002changeably in this exercise.)\n",
    "\n",
    "Extend your program so that it also computes the cost of heating the water. Elec\u0002tricity is normally billed using units of kilowatt hours rather than Joules. In this\n",
    "exercise, you should assume that electricity costs 8.9 cents per kilowatt hour. Use\n",
    "your program to compute the cost of boiling the water needed for a cup of coffee.\n",
    "\n",
    "(Hint: You will need to look up the factor for converting between Joules and\n",
    "kilowatt hours to complete the last part of this exercise.)"
   ]
  },
  {
   "cell_type": "code",
   "execution_count": 10,
   "id": "ea60dd97",
   "metadata": {},
   "outputs": [
    {
     "name": "stdout",
     "output_type": "stream",
     "text": [
      "Enter amount of water in milliliters: 2500\n",
      "Enter amount of temperature increase (degrees Celsius): 75\n",
      "That will require 784875 Joules of energy.\n",
      "Amount of energy needed  784875.0 Joules, which will cost 1.94\n"
     ]
    }
   ],
   "source": [
    "HEAT_CAPACITY = 4.186\n",
    "J_TO_KWH = 2.777e-7 #Python allows to write number in scientific notation\n",
    "electricity_price=8.9\n",
    " \n",
    "volume   = float(input(\"Enter amount of water in milliliters: \"))\n",
    "temp     = float(input(\"Enter amount of temperature increase (degrees Celsius): \"))\n",
    "\n",
    "energy  = volume * temp * HEAT_CAPACITY\n",
    "\n",
    "print(\"That will require %d Joules of energy.\" % energy)\n",
    "kwh     = energy * J_TO_KWH\n",
    "cost    = kwh * electricity_price\n",
    " \n",
    "print(\"Amount of energy needed \",round(energy,2),\"Joules, which will cost\", round(cost,2))"
   ]
  },
  {
   "cell_type": "markdown",
   "id": "fa053edb",
   "metadata": {},
   "source": [
    "# Exercise 18: Volume of a Cylinder\n",
    "    The volume of a cylinder can be computed by multiplying the area of its circular\n",
    "base by its height. Write a program that reads the radius of the cylinder, along with\n",
    "its height, from the user and computes its volume. Display the result rounded to one\n",
    "decimal place."
   ]
  },
  {
   "cell_type": "code",
   "execution_count": 11,
   "id": "c434b0e8",
   "metadata": {},
   "outputs": [
    {
     "name": "stdout",
     "output_type": "stream",
     "text": [
      "Please Enter the Radius of a Cylinder: 5\n",
      "Please Enter the Height of a Cylinder: 7\n",
      " The Volume of a Cylinder = 549.5\n"
     ]
    }
   ],
   "source": [
    "PI = 3.14\n",
    "radius = float(input('Please Enter the Radius of a Cylinder: '))\n",
    "height = float(input('Please Enter the Height of a Cylinder: '))\n",
    "\n",
    "Volume = PI * radius * radius * height\n",
    "\n",
    "print(\" The Volume of a Cylinder = %.1f\" %Volume)"
   ]
  },
  {
   "cell_type": "markdown",
   "id": "574cf299",
   "metadata": {},
   "source": [
    "# Exercise 19: Free Fall\n",
    "    Create a program that determines how quickly an object is travelling when it hits the\n",
    "ground. The user will enter the height from which the object is dropped in meters (m).\n",
    "Because the object is dropped its initial speed is 0 m/s. Assume that the acceleration\n",
    "due to gravity is 9.8 m/s2. You can use the formula vf = \u0002 vi2 + 2ad to compute the\n",
    "final speed, vf , when the initial speed, vi , acceleration, a, and distance, d, are known."
   ]
  },
  {
   "cell_type": "code",
   "execution_count": 1,
   "id": "a3b87f66",
   "metadata": {},
   "outputs": [
    {
     "name": "stdout",
     "output_type": "stream",
     "text": [
      "Height (in meters): 12\n",
      "It will hit the ground at 15.34 m/s.\n"
     ]
    }
   ],
   "source": [
    "from math import sqrt\n",
    "GRAVITY = 9.8\n",
    "d = float(input(\"Height (in meters): \"))\n",
    "vf = sqrt(2 * GRAVITY * d)\n",
    "print(\"It will hit the ground at %.2f m/s.\" % vf)\n"
   ]
  },
  {
   "cell_type": "markdown",
   "id": "b96432d1",
   "metadata": {},
   "source": [
    "# Exercise 20: Ideal Gas Law\n",
    "    The ideal gas law is a mathematical approximation of the behavior of gasses as\n",
    "pressure, volume and temperature change. It is usually stated as:\n",
    "PV = nRT\n",
    "where P is the pressure in Pascals, V is the volume in liters, n is the amount of\n",
    "substance in moles, R is the ideal gas constant, equal to 8.314 J\n",
    "mol K , and T is the temperature in degrees Kelvin.\n",
    "\n",
    "Write a program that computes the amount of gas in moles when the user supplies\n",
    "the pressure, volume and temperature. Test your program by determining the number\n",
    "of moles of gas in a SCUBA tank. A typical SCUBA tank holds 12 liters of gas at\n",
    "a pressure of 20,000,000 Pascals (approximately 3,000 PSI). Room temperature is\n",
    "approximately 20 degrees Celsius or 68 degrees Fahrenheit.\n",
    "Hint: A temperature is converted from Celsius to Kelvin by adding 273.15\n",
    "to it. To convert a temperature from Fahrenheit to Kelvin, deduct 32 from it,\n",
    "multiply it by 59 and then add 273.15 to it."
   ]
  },
  {
   "cell_type": "code",
   "execution_count": 2,
   "id": "95493fc8",
   "metadata": {},
   "outputs": [
    {
     "name": "stdout",
     "output_type": "stream",
     "text": [
      "Number of Moles required for this is 98522.0865992721\n"
     ]
    }
   ],
   "source": [
    "tempinKelvin=273.15+20\n",
    "molesRequired=(20000000*12)/(8.314*293)\n",
    "print(f\"Number of Moles required for this is {molesRequired}\")"
   ]
  },
  {
   "cell_type": "markdown",
   "id": "e2f0a9e4",
   "metadata": {},
   "source": [
    "# Exercise 21: Area of a Triangle\n",
    "    The area of a triangle can be computed using the following formula, where b is the\n",
    "length of the base of the triangle, and h is its height:\n",
    "area = b × h / 2\n",
    "Write a program that allows the user to enter values for b and h. The program should\n",
    "then compute and display the area of a triangle with base length b and height h."
   ]
  },
  {
   "cell_type": "code",
   "execution_count": 3,
   "id": "a876614c",
   "metadata": {},
   "outputs": [
    {
     "name": "stdout",
     "output_type": "stream",
     "text": [
      "Input the base : 12\n",
      "Input the height : 5\n",
      "area of Triangle is   30.0\n"
     ]
    }
   ],
   "source": [
    "base = int(input(\"Input the base : \"))\n",
    "height = int(input(\"Input the height : \"))\n",
    "\n",
    "area = base*height/2\n",
    "\n",
    "print(\"area of Triangle is  \", area)"
   ]
  },
  {
   "cell_type": "markdown",
   "id": "f3a50457",
   "metadata": {},
   "source": [
    "# Exercise 22: Area of a Triangle (Again)\n",
    "    In the previous exercise you created a program that computed the area of a triangle\n",
    "when the length of its base and its height were known. It is also possible to compute\n",
    "the area of a triangle when the lengths of all three sides are known. Let s1, s2 and s3\n",
    "be the lengths of the sides. Let s = (s1 + s2 + s3)/2. Then the area of the triangle\n",
    "can be calculated using the following formula:\n",
    "area = \u0003 s × (s − s1) × (s − s2) × (s − s3)\n",
    "Develop a program that reads the lengths of the sides of a triangle from the user and\n",
    "displays its area."
   ]
  },
  {
   "cell_type": "code",
   "execution_count": 4,
   "id": "7caf28bd",
   "metadata": {},
   "outputs": [
    {
     "name": "stdout",
     "output_type": "stream",
     "text": [
      "Enter first side: 5\n",
      "Enter second side: 6\n",
      "Enter third side: 7\n",
      "The area of the triangle is 14.70\n"
     ]
    }
   ],
   "source": [
    "a = float(input('Enter first side: '))  \n",
    "b = float(input('Enter second side: '))  \n",
    "c = float(input('Enter third side: '))  \n",
    " \n",
    "s = (a + b + c) / 2  \n",
    "area = (s*(s-a)*(s-b)*(s-c)) ** 0.5  \n",
    "print('The area of the triangle is %0.2f' %area)   "
   ]
  },
  {
   "cell_type": "markdown",
   "id": "cafe0b53",
   "metadata": {},
   "source": [
    "# Exercise 23: Area of a Regular Polygon\n",
    "    A polygon is regular if its sides are all the same length and the angles between all of\n",
    "the adjacent sides are equal. The area of a regular polygon can be computed using\n",
    "the following formula, where s is the length of a side and n is the number of sides:\n",
    "    area=n*s**2/4*tan(pi/n)\n",
    "Write a program that reads s and n from the user and then displays the area of a\n",
    "regular polygon constructed from these values."
   ]
  },
  {
   "cell_type": "code",
   "execution_count": 5,
   "id": "a4de5d43",
   "metadata": {},
   "outputs": [
    {
     "name": "stdout",
     "output_type": "stream",
     "text": [
      "Enter the length of each side: 10\n",
      "Enter the number of sides: 4\n",
      "The area of the polygon is 100.00000000000001\n"
     ]
    }
   ],
   "source": [
    "from math import tan, pi\n",
    "s = float(input(\"Enter the length of each side: \"))\n",
    "n = int(input(\"Enter the number of sides: \"))\n",
    "area = (n * s ** 2) / (4 * tan(pi / n))\n",
    "print(\"The area of the polygon is\", area)"
   ]
  },
  {
   "cell_type": "markdown",
   "id": "487d723c",
   "metadata": {},
   "source": [
    "# Exercise 24: Units of Time\n",
    "    Create a program that reads a duration from the user as a number of days, hours,\n",
    "minutes, and seconds. Compute and display the total number of seconds represented\n",
    "by this duration."
   ]
  },
  {
   "cell_type": "code",
   "execution_count": 1,
   "id": "1eeb7be0",
   "metadata": {},
   "outputs": [
    {
     "name": "stdout",
     "output_type": "stream",
     "text": [
      "Enter the number of days\n",
      "2\n",
      "Enter the number of hours\n",
      "12\n",
      "Enter the number of minutes\n",
      "10\n",
      "Enter the number of seconds\n",
      "5\n",
      "The total number of seconds is represented by 2 days , 12 hours , 10 minutes and 5 seconds is 216605 seconds\n"
     ]
    }
   ],
   "source": [
    "days = int(input(\"Enter the number of days\\n\"))\n",
    "hrs = int(input(\"Enter the number of hours\\n\"))\n",
    "mins = int(input(\"Enter the number of minutes\\n\"))\n",
    "secs = int(input(\"Enter the number of seconds\\n\"))\n",
    "\n",
    "seconds_per_day = days * 24 * 60 * 60\n",
    "seconds_per_hour = hrs * 60 * 60\n",
    "seconds_per_minutes = mins * 60 \n",
    "\n",
    "total_number_of_seconds = seconds_per_day + seconds_per_hour + seconds_per_minutes + secs\n",
    "\n",
    "print(f\"The total number of seconds is represented by {days} days , {hrs} hours , {mins} minutes and {secs} \\\n",
    "seconds is {total_number_of_seconds} seconds\")"
   ]
  },
  {
   "cell_type": "markdown",
   "id": "34cebf10",
   "metadata": {},
   "source": [
    "# Exercise 25: Units of Time (Again)\n",
    "    In this exercise you will reverse the process described in Exercise 24. Develop a program that begins by reading \n",
    "    a number of seconds from the user. Then your program should display the equivalent amount of time in the form \n",
    "    D:HH:MM:SS, where D, HH, MM, and SS represent days, hours, minutes and seconds respectively. The hours,minutes \n",
    "    and seconds should all be formatted so that they occupy exactly two digits.Use your research skills determine \n",
    "    what additional character needs to be included in the format specifier so that leading zeros are used instead \n",
    "    of leading spaces when anumber is formatted to a particular width."
   ]
  },
  {
   "cell_type": "code",
   "execution_count": 2,
   "id": "6b109058",
   "metadata": {},
   "outputs": [
    {
     "name": "stdout",
     "output_type": "stream",
     "text": [
      "Enter a number of seconds: 3960\n",
      "The equivalent duration is 0:01:06:00.\n"
     ]
    }
   ],
   "source": [
    "SECONDS_PER_DAY = 86400\n",
    "SECONDS_PER_HOUR = 3600\n",
    "SECONDS_PER_MINUTE = 60\n",
    "seconds = int(input(\"Enter a number of seconds: \"))\n",
    "days = seconds / SECONDS_PER_DAY\n",
    "seconds = seconds % SECONDS_PER_DAY\n",
    "hours = seconds / SECONDS_PER_HOUR\n",
    "seconds = seconds % SECONDS_PER_HOUR\n",
    "minutes = seconds / SECONDS_PER_MINUTE\n",
    "seconds = seconds % SECONDS_PER_MINUTE\n",
    "print(\"The equivalent duration is\", \\\n",
    "\"%d:%02d:%02d:%02d.\" % (days, hours, minutes, seconds))"
   ]
  },
  {
   "cell_type": "markdown",
   "id": "be8f1e69",
   "metadata": {},
   "source": [
    "# Exercise 26: Current Time\n",
    "Python’s time module includes several time-related functions. One of these is the\n",
    "asctime function which reads the current time from the computer’s internal clock\n",
    "and returns it in a human-readable format. Use this function to write a program that\n",
    "displays the current time and date. Your program will not require any input from the\n",
    "user."
   ]
  },
  {
   "cell_type": "code",
   "execution_count": 3,
   "id": "480ea109",
   "metadata": {},
   "outputs": [
    {
     "name": "stdout",
     "output_type": "stream",
     "text": [
      "Current time and date is  Thu Aug 25 23:42:27 2022\n"
     ]
    }
   ],
   "source": [
    "import time\n",
    "print(\"Current time and date is \",time.asctime())"
   ]
  },
  {
   "cell_type": "markdown",
   "id": "25630b6a",
   "metadata": {},
   "source": [
    "# Exercise 27: When is Easter?\n",
    "\n",
    "Easter is celebrated on the Sunday immediately after the first full moon following the spring equinox. Because \n",
    "its date includes a lunar component, Easter does not have a fixed date in the Gregorian calendar. Instead, it can occur on any date between\n",
    "March 22 and April 25. The month and day for Easter can be computed for a given\n",
    "year using the Anonymous Gregorian Computus algorithm, which is shown below.\n",
    "Set a equal to the remainder when year is divided by 19\n",
    "Set b equal to the floor of year divided by 100\n",
    "Set c equal to the remainder when year is divided by 100\n",
    "Set d equal to the floor of b divided by 4\n",
    "Set e equal to the remainder when b is divided by 4\n",
    "Set f equal to the floor of\n",
    "b + 8\n",
    "25\n",
    "Set g equal to the floor of\n",
    "b − f + 1 3\n",
    "Set h equal to the remainder when 19a + b − d − g + 15 is divided by 30\n",
    "Set i equal to the floor of c divided by 4\n",
    "Set k equal to the remainder when c is divided by 4\n",
    "Set l equal to the remainder when 32 + 2e + 2i − h − k is divided by 7\n",
    "Set m equal to the floor of a + 11h + 22l\n",
    "451\n",
    "Set month equal to the floor of\n",
    "h + l − 7m + 114\n",
    "31\n",
    "Set day equal to one plus the remainder when h + l − 7m + 114 is dividedby 31\n",
    "Write a program that implements the Anonymous Gregorian Computus algorithmto compute the date of Easter. Your program should read the year from the user and then display a appropriate message that includes the date of Easter in that year."
   ]
  },
  {
   "cell_type": "code",
   "execution_count": 4,
   "id": "c6b136bb",
   "metadata": {},
   "outputs": [
    {
     "name": "stdout",
     "output_type": "stream",
     "text": [
      "Please enter a year to calculate the date of Easter: 2022\n",
      "In the year 2022 Easter will fall on the 17th of 4\n"
     ]
    }
   ],
   "source": [
    "year = int(input(\"Please enter a year to calculate the date of Easter: \"))\n",
    "a = year % 19\n",
    "b, c = divmod(year, 100)\n",
    "d, e = divmod(b, 4)\n",
    "f = (b + 8) // 25\n",
    "g = (b - f + 1) // 3\n",
    "h = (19*a + b - d - g + 15) % 30\n",
    "i, k = divmod(c, 4)\n",
    "l = (32 + 2*(e + i) - h - k) % 7\n",
    "m = (a + 11*h + 22*l) // 451\n",
    "month, day = divmod(h + l - 7*m + 114, 31)\n",
    "day += 1\n",
    "st = ['1', '21', '31']\n",
    "nd = ['2', '22']\n",
    "rd = ['3', '23']\n",
    "th = ['4', '5', '6', '7', '8', '9', '10', '11', '12', '13', '14', '15', '16', '17', '18', '19', '20', '24', '25', '26', '27', '28', '29', '30']\n",
    "\n",
    "if day in st:\n",
    "    print(\"In the year\", year, \"Easter will fall on the\", str(day) + \"st\", \"of\", month)\n",
    "elif day in nd:\n",
    "    print(\"In the year\", year, \"Easter will fall on the\", str(day) + \"nd\", \"of\", month)\n",
    "elif day in rd:\n",
    "    print(\"In the year\", year, \"Easter will fall on the\", str(day) + \"rd\", \"of\", month)\n",
    "else:\n",
    "    print(\"In the year\", year, \"Easter will fall on the\", str(day) + \"th\", \"of\", month)"
   ]
  },
  {
   "cell_type": "markdown",
   "id": "9ddab409",
   "metadata": {},
   "source": [
    "# Exercise 28: Body Mass Index\n",
    "    Write a program that computes the body mass index (BMI) of an individual. Your program should begin by\n",
    "    reading a height and weight from the user. Then it should use one of the following two formulas to \n",
    "    compute the BMI before displaying it. If you read the height in inches and the weight in pounds then \n",
    "    body mass index is computed using the following formula:\n",
    "            BMI = weight × 703 / height * height\n",
    "    If you read the height in meters and the weight in kilograms then body mass index is computed using this\n",
    "    slightly simpler formula:\n",
    "            BMI = weight / height × height"
   ]
  },
  {
   "cell_type": "code",
   "execution_count": 2,
   "id": "b4e17f57",
   "metadata": {},
   "outputs": [
    {
     "name": "stdout",
     "output_type": "stream",
     "text": [
      "Enter your height(m): 1.5\n",
      "Enter your weight(kg): 69\n",
      "Your BMI SI units is:  30.67\n",
      "Enter your height(inches): 150\n",
      "Enter your weight(pound): 69\n",
      "Your BMI in British units is:  2.16\n"
     ]
    }
   ],
   "source": [
    "height = float(input(\"Enter your height(m): \"))\n",
    "weight = float(input(\"Enter your weight(kg): \"))\n",
    "print(\"Your BMI SI units is: \", round(weight / (height * height), 2))\n",
    "height = float(input(\"Enter your height(inches): \"))\n",
    "weight = float(input(\"Enter your weight(pound): \"))\n",
    "print(\"Your BMI in British units is: \", round(weight * 703 / (height * height), 2))"
   ]
  },
  {
   "cell_type": "markdown",
   "id": "3472f899",
   "metadata": {},
   "source": [
    "# Exercise 29: Wind Chill\n",
    "    When the wind blows in cold weather, the air feels even colder than it actually is because the movement \n",
    "    of the air increases the rate of cooling for warm objects, like people. This effect is known as wind chill.\n",
    "    In 2001, Canada, the United Kingdom and the United States adopted the fol\u0002lowing formula for computing the \n",
    "    wind chill index. Within the formula Ta is the air temperature in degrees Celsius and V is the wind speed \n",
    "    in kilometers per hour.\n",
    "    A similar formula with different constant values can be used for temperatures in degrees Fahrenheit and wind \n",
    "    speeds in miles per hour.\n",
    "            WCI = 13.12 + 0.6215Ta − 11.37V0.16 + 0.3965TaV0.16\n",
    "    Write a program that begins by reading the air temperature and wind speed from the user. Once these values have \n",
    "    been read your program should display the wind chill index rounded to the closest integer.\n",
    "    (The wind chill index is only considered valid for temperatures less than or equal to 10 degrees Celsius and wind \n",
    "    speeds exceeding 4.8 kilometers per hour)."
   ]
  },
  {
   "cell_type": "code",
   "execution_count": 3,
   "id": "0a2fe2ae",
   "metadata": {},
   "outputs": [
    {
     "name": "stdout",
     "output_type": "stream",
     "text": [
      "Enter the air temperature in (degrees Celsius): 9\n",
      "Enter the wind speed (kilometer per hour): 4.5\n",
      "Wind Chill Index  8\n"
     ]
    }
   ],
   "source": [
    "WINDCHILL_OFFSET    = 13.12\n",
    "WINDCHILL_FACTOR1   = 0.6215\n",
    "WINDCHILL_FACTOR2   = -11.37   \n",
    "WINDCHILL_FACTOR3   = 0.3965\n",
    "WINDCHILL_EXP       = 0.16\n",
    " \n",
    "temp    = float(input(\"Enter the air temperature in (degrees Celsius): \"))\n",
    "speed   = float(input(\"Enter the wind speed (kilometer per hour): \"))\n",
    " \n",
    "wci     = WINDCHILL_OFFSET + (WINDCHILL_FACTOR1 * temp) + (WINDCHILL_FACTOR2 * speed ** WINDCHILL_EXP) + (WINDCHILL_FACTOR3 * temp * speed ** WINDCHILL_EXP)\n",
    " \n",
    "print(\"Wind Chill Index \",\"%d\"%(wci))"
   ]
  },
  {
   "cell_type": "markdown",
   "id": "adf033bf",
   "metadata": {},
   "source": [
    "# Exercise 30: Celsius to Fahrenheit and Kelvin\n",
    "    Write a program that begins by reading a temperature from the user in degrees Celsius. Then your program \n",
    "    should display the equivalent temperature in degrees Fahrenheit and degrees Kelvin. The calculations needed \n",
    "    to convert between different units of temperature can be found on the Internet."
   ]
  },
  {
   "cell_type": "code",
   "execution_count": 4,
   "id": "4e549033",
   "metadata": {},
   "outputs": [
    {
     "name": "stdout",
     "output_type": "stream",
     "text": [
      "Enter temperature in celsius: 53\n",
      "53.000 Celsius = 127.400 Fahrenheit.\n",
      "53.000 Celsius = 326.150 Kelvin.\n"
     ]
    }
   ],
   "source": [
    "celsius = float(input('Enter temperature in celsius: '))\n",
    "\n",
    "fahrenheit = 1.8 * celsius + 32\n",
    "kelvin = 273.15 + celsius\n",
    "\n",
    "print('%0.3f Celsius = %0.3f Fahrenheit.' % (celsius, fahrenheit))\n",
    "print('%0.3f Celsius = %0.3f Kelvin.' % (celsius, kelvin))"
   ]
  },
  {
   "cell_type": "markdown",
   "id": "3049ef33",
   "metadata": {},
   "source": [
    "# Exercise 31: Units of Pressure\n",
    "    In this exercise you will create a program that reads a pressure from the user in kilo\u0002pascals. Once the pressure\n",
    "    has been read your program should report the equivalent     pressure in pounds per square inch, millimeters of \n",
    "    mercury and atmospheres. Use your research skills to determine the conversion factors between these units."
   ]
  },
  {
   "cell_type": "code",
   "execution_count": 5,
   "id": "5b436afb",
   "metadata": {},
   "outputs": [
    {
     "name": "stdout",
     "output_type": "stream",
     "text": [
      "Input the pressure in kilopascals > 12.5\n",
      "Pressure = 1.813 psi \n",
      "or 93.758 mmHg \n",
      "or 0.123 atmp\n"
     ]
    }
   ],
   "source": [
    "kpa= float(input(\"Input the pressure in kilopascals > \"))\n",
    "pressure_in_psi = round(kpa * 0.145038,3)\n",
    "pressure_in_mmHg = round(kpa * 7.50062, 3)\n",
    "pressure_in_atmp = round(kpa * 0.0098692382432766,3)\n",
    "print(f\"Pressure = {pressure_in_psi} psi \\nor {pressure_in_mmHg} mmHg \\nor {pressure_in_atmp} atmp\")"
   ]
  },
  {
   "cell_type": "markdown",
   "id": "37e8b562",
   "metadata": {},
   "source": [
    "# Exercise 32: Sum of the Digits in an Integer\n",
    "    Develop a program that reads a four-digit integer from the user and displays the sum of its digits. For example, \n",
    "    if the user enters 3141 then your program should display 3+1+4+1=9."
   ]
  },
  {
   "cell_type": "code",
   "execution_count": 7,
   "id": "6ef1b277",
   "metadata": {},
   "outputs": [
    {
     "name": "stdout",
     "output_type": "stream",
     "text": [
      "Enter number45672\n",
      "Sum of digits 24\n"
     ]
    }
   ],
   "source": [
    "n=int(input(\"Enter number\"))\n",
    "\n",
    "sum=0\n",
    "for digit in str(n):\n",
    "    sum=sum+int(digit)\n",
    "\n",
    "print(\"Sum of digits\",sum)"
   ]
  },
  {
   "cell_type": "markdown",
   "id": "ed2a96ea",
   "metadata": {},
   "source": [
    "# Exercise 33: Sort 3 Integers\n",
    "    Create a program that reads three integers from the user and displays them in sorted order (from smallest to largest).\n",
    "    Use the min and max functions to find the smallest ues. The middle value can be found by computing the sum of all \n",
    "    three values, and then subtracting the minimum value and the maximum value."
   ]
  },
  {
   "cell_type": "code",
   "execution_count": 8,
   "id": "859a3de6",
   "metadata": {},
   "outputs": [
    {
     "name": "stdout",
     "output_type": "stream",
     "text": [
      "Enter the first integer number\n",
      "34\n",
      "Enter the second integer number\n",
      "54\n",
      "Enter the third integer number\n",
      "12\n",
      "Integers in sorted order are 12 34 54\n"
     ]
    }
   ],
   "source": [
    "a = int(input(\"Enter the first integer number\\n\"))\n",
    "b = int(input(\"Enter the second integer number\\n\"))\n",
    "c = int(input(\"Enter the third integer number\\n\"))\n",
    "\n",
    "first_number = min(a,b,c)\n",
    "last_number = max(a,b,c)\n",
    "mid_number = (a+b+c) - first_number - last_number\n",
    "\n",
    "print(\"Integers in sorted order are {0} {1} {2}\".format(first_number,mid_number,last_number))\n"
   ]
  },
  {
   "cell_type": "markdown",
   "id": "23209843",
   "metadata": {},
   "source": [
    "### Exercise 34: Day Old Bread\n",
    "    A bakery sells loaves of bread for $3.49 each. Day old bread is discounted by 60 percent. Write a program \n",
    "    that begins by reading the number of loaves of day old bread being purchased from the user. Then your program\n",
    "    should display the regular price for the bread, the discount because it is a day old, and the total price.\n",
    "    Each of these amounts should be displayed on its own line with an appropriate label. All of the values should \n",
    "    be displayed using two decimal places, and the decimal points in all of the numbers should be aligned when\n",
    "    reasonable values are entered by the user."
   ]
  },
  {
   "cell_type": "code",
   "execution_count": 3,
   "id": "29ab39f5",
   "metadata": {},
   "outputs": [
    {
     "name": "stdout",
     "output_type": "stream",
     "text": [
      "Enter the Number of loaves of old bread purchased by the user\n",
      "3\n",
      "Regular price for the bread is $10.47\n",
      "Discount because it is a day old is $  6.3\n",
      "Total price is $  4.2\n"
     ]
    }
   ],
   "source": [
    "nol = int(input(\"Enter the Number of loaves of old bread purchased by the user\\n\"))\n",
    "reg_price = nol * 3.49\n",
    "discount = nol * 3.49 * 0.6\n",
    "print(f\"Regular price for the bread is ${reg_price:{5}.{4}}\")\n",
    "print(f\"Discount because it is a day old is ${discount:{5}.{2}}\")\n",
    "print(f\"Total price is ${(reg_price - discount):{5}.{2}}\")"
   ]
  },
  {
   "cell_type": "code",
   "execution_count": null,
   "id": "978f567b",
   "metadata": {},
   "outputs": [],
   "source": []
  },
  {
   "cell_type": "code",
   "execution_count": null,
   "id": "8f12e6a9",
   "metadata": {},
   "outputs": [],
   "source": []
  },
  {
   "cell_type": "code",
   "execution_count": null,
   "id": "7f0d45db",
   "metadata": {},
   "outputs": [],
   "source": []
  }
 ],
 "metadata": {
  "kernelspec": {
   "display_name": "Python 3 (ipykernel)",
   "language": "python",
   "name": "python3"
  },
  "language_info": {
   "codemirror_mode": {
    "name": "ipython",
    "version": 3
   },
   "file_extension": ".py",
   "mimetype": "text/x-python",
   "name": "python",
   "nbconvert_exporter": "python",
   "pygments_lexer": "ipython3",
   "version": "3.9.12"
  }
 },
 "nbformat": 4,
 "nbformat_minor": 5
}
